{
  "nbformat": 4,
  "nbformat_minor": 0,
  "metadata": {
    "colab": {
      "provenance": []
    },
    "kernelspec": {
      "name": "python3",
      "display_name": "Python 3"
    },
    "language_info": {
      "name": "python"
    }
  },
  "cells": [
    {
      "cell_type": "code",
      "execution_count": 1,
      "metadata": {
        "colab": {
          "base_uri": "https://localhost:8080/"
        },
        "id": "CBjg3FyHiE-_",
        "outputId": "4b3e824b-1740-49bd-b457-212edd4a57de"
      },
      "outputs": [
        {
          "output_type": "stream",
          "name": "stdout",
          "text": [
            "<class 'pandas.core.frame.DataFrame'>\n",
            "RangeIndex: 569 entries, 0 to 568\n",
            "Data columns (total 6 columns):\n",
            " #   Column                    Non-Null Count  Dtype  \n",
            "---  ------                    --------------  -----  \n",
            " 0   Uniformity of Cell Size   569 non-null    float64\n",
            " 1   Uniformity of Cell Shape  569 non-null    float64\n",
            " 2   Bare Nuclei               569 non-null    float64\n",
            " 3   Bland Chromatin           569 non-null    float64\n",
            " 4   Normal Nucleoli           569 non-null    float64\n",
            " 5   Class                     569 non-null    int64  \n",
            "dtypes: float64(5), int64(1)\n",
            "memory usage: 26.8 KB\n",
            "None\n",
            "   Uniformity of Cell Size  Uniformity of Cell Shape  Bare Nuclei  \\\n",
            "0                      0.0                       0.0          0.0   \n",
            "1                      1.0                       1.0          4.0   \n",
            "2                      0.0                       0.0          0.0   \n",
            "3                      0.0                       0.0          0.0   \n",
            "4                      0.0                       0.0          4.0   \n",
            "\n",
            "   Bland Chromatin  Normal Nucleoli  Class  \n",
            "0              1.0              0.0      2  \n",
            "1              1.0              0.0      2  \n",
            "2              1.0              0.0      2  \n",
            "3              1.0              0.0      2  \n",
            "4              1.0              0.0      2  \n"
          ]
        }
      ],
      "source": [
        "import pandas as pd\n",
        "from sklearn.feature_selection import SelectKBest, f_classif\n",
        "from sklearn.impute import SimpleImputer\n",
        "from sklearn.preprocessing import KBinsDiscretizer\n",
        "import numpy as np\n",
        "\n",
        "def preprocess_data(data, target_column, k_best=5):\n",
        "  \"\"\"\n",
        "Applies pre-processing techniques to a dataset.\n",
        "\n",
        "Args:\n",
        "data: Pandas DataFrame containing the dataset.\n",
        "target_column: The name of the target variable column.\n",
        "k_best: The number of best features to select.\n",
        "\n",
        "Returns:\n",
        "Pandas DataFrame with preprocessed data.\n",
        "    \"\"\"\n",
        "\n",
        "# 1. Attribute Selection (using SelectKBest with ANOVA Fvalue)\n",
        "  X = data.drop(target_column, axis=1)\n",
        "  y = data[target_column]\n",
        "\n",
        "# Ensure target variable is numeric\n",
        "  if not np.issubdtype(y.dtype, np.number):\n",
        "    y = pd.Categorical(y).codes\n",
        "  selector = SelectKBest(f_classif, k=k_best)\n",
        "# Select top k features\n",
        "  X_new = selector.fit_transform(X, y)\n",
        "  selected_features = X.columns[selector.get_support()]\n",
        "  X = pd.DataFrame(X_new, columns=selected_features)\n",
        "\n",
        "# 2. Handling Missing Values (using SimpleImputer with mean strategy)\n",
        "  imputer = SimpleImputer(strategy='mean')\n",
        "# Replace with median or most_frequent if needed\n",
        "  X=pd.DataFrame(imputer.fit_transform(X),\n",
        "columns=X.columns)\n",
        "\n",
        "# 3. Discretization (using KBinsDiscretizer with uniform strategy)\n",
        "  discretizer = KBinsDiscretizer(n_bins=5, encode='ordinal',\n",
        "strategy='uniform')\n",
        "# Adjust n_bins\n",
        "  try:\n",
        "    X=pd.DataFrame(discretizer.fit_transform(X), columns=X.columns)\n",
        "  except ValueError as e:\n",
        "    print(f\"Discretization Error: {e}\")\n",
        "    return None\n",
        "# 4. Elimination of Outliers (using IQR method)\n",
        "  for col in X.columns:\n",
        "    Q1 = X[col].quantile(0.25)\n",
        "    Q3 = X[col].quantile(0.75)\n",
        "    IQR = Q3 - Q1\n",
        "    lower_bound = Q1 - 1.5 * IQR\n",
        "    upper_bound = Q3 + 1.5 * IQR\n",
        "    X = X[(X[col] >= lower_bound) & (X[col] <=\n",
        "upper_bound)]\n",
        "# Align y with the filtered index\n",
        "  y = y[X.index]\n",
        "# Combine features and target into a new DataFrame\n",
        "  processed_data=pd.concat([X.reset_index(drop=True),\n",
        "y.reset_index(drop=True)], axis=1)\n",
        "  return processed_data\n",
        "# Load the dataset\n",
        "data = pd.read_csv(\"/content/breast_cancer.csv\")\n",
        "# Preprocess the data\n",
        "preprocessed_data = preprocess_data(data, \"Class\")\n",
        "# Assuming \"Class\" is the name of the target variable\n",
        "# Print some info\n",
        "if preprocessed_data is not None:\n",
        "  print(preprocessed_data.info())\n",
        "  print(preprocessed_data.head())\n",
        "else:\n",
        "  print(\"Preprocessing failed due to errors.\")"
      ]
    }
  ]
}